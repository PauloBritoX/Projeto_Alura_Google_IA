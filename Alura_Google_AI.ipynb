{
  "nbformat": 4,
  "nbformat_minor": 0,
  "metadata": {
    "colab": {
      "provenance": [],
      "authorship_tag": "ABX9TyMSxvYpJA7fODFMuPM1M571",
      "include_colab_link": true
    },
    "kernelspec": {
      "name": "python3",
      "display_name": "Python 3"
    },
    "language_info": {
      "name": "python"
    }
  },
  "cells": [
    {
      "cell_type": "markdown",
      "metadata": {
        "id": "view-in-github",
        "colab_type": "text"
      },
      "source": [
        "<a href=\"https://colab.research.google.com/github/PauloBritoX/Projeto_Alura_Google_IA/blob/main/Alura_Google_AI.ipynb\" target=\"_parent\"><img src=\"https://colab.research.google.com/assets/colab-badge.svg\" alt=\"Open In Colab\"/></a>"
      ]
    },
    {
      "cell_type": "code",
      "execution_count": 1,
      "metadata": {
        "id": "q-6LM5vcBvWt"
      },
      "outputs": [],
      "source": [
        "!pip install -q -U google-generativeai"
      ]
    },
    {
      "cell_type": "code",
      "source": [
        "import google.generativeai as genai\n",
        "from google.colab import userdata\n",
        "api_key = userdata.get(\"SECRET_KEY\")\n",
        "genai.configure(api_key=api_key)"
      ],
      "metadata": {
        "id": "yy6vudwLOtcR"
      },
      "execution_count": 2,
      "outputs": []
    },
    {
      "cell_type": "markdown",
      "source": [
        "Listar os modelos disponívei do gemini."
      ],
      "metadata": {
        "id": "ccCWfg8nPZhD"
      }
    },
    {
      "cell_type": "code",
      "source": [
        "for m in genai.list_models():\n",
        "  if 'generateContent' in m.supported_generation_methods:\n",
        "    print(m.name)"
      ],
      "metadata": {
        "colab": {
          "base_uri": "https://localhost:8080/",
          "height": 139
        },
        "id": "OJ_9NYjwPkMs",
        "outputId": "feaa4e7c-c8b7-4c3b-a758-9e649e4c6b95"
      },
      "execution_count": 4,
      "outputs": [
        {
          "output_type": "stream",
          "name": "stdout",
          "text": [
            "models/gemini-1.0-pro\n",
            "models/gemini-1.0-pro-001\n",
            "models/gemini-1.0-pro-latest\n",
            "models/gemini-1.0-pro-vision-latest\n",
            "models/gemini-1.5-pro-latest\n",
            "models/gemini-pro\n",
            "models/gemini-pro-vision\n"
          ]
        }
      ]
    },
    {
      "cell_type": "code",
      "source": [
        "generation_config = {\n",
        "  \"candidate_count\": 1,\n",
        "  \"temperature\": 0.5,\n",
        "}"
      ],
      "metadata": {
        "id": "cTAjEQJAaIIb"
      },
      "execution_count": 5,
      "outputs": []
    },
    {
      "cell_type": "code",
      "source": [
        "safety_settings={\n",
        "    'HATE': 'BLOCK_NONE',\n",
        "    'HARASSMENT': 'BLOCK_NONE',\n",
        "    'SEXUAL' : 'BLOCK_NONE',\n",
        "    'DANGEROUS' : 'BLOCK_NONE'\n",
        "    }"
      ],
      "metadata": {
        "id": "ahOj0wZ5apA6"
      },
      "execution_count": 6,
      "outputs": []
    },
    {
      "cell_type": "code",
      "source": [
        "model = genai.GenerativeModel(model_name='gemini-1.0-pro',\n",
        "                                  generation_config=generation_config,\n",
        "                                  safety_settings=safety_settings,)"
      ],
      "metadata": {
        "id": "UepbClTXbQ__"
      },
      "execution_count": 7,
      "outputs": []
    },
    {
      "cell_type": "code",
      "source": [
        "response = model.generate_content(\"O que é o método COAR desenvolvido por Paulo Brito\")\n",
        "response.text"
      ],
      "metadata": {
        "colab": {
          "base_uri": "https://localhost:8080/",
          "height": 87
        },
        "id": "MlRC2N1ve6Th",
        "outputId": "b5a1a753-1faf-4d06-f76b-f6924329d81a"
      },
      "execution_count": 8,
      "outputs": [
        {
          "output_type": "execute_result",
          "data": {
            "text/plain": [
              "'**Método COAR (Comunicação, Organização, Atenção e Revisão)**\\n\\nO Método COAR é uma abordagem desenvolvida pelo professor Paulo Brito para melhorar a compreensão e a retenção de informações durante o estudo. Ele se baseia nos seguintes princípios:\\n\\n**1. Comunicação:**\\n\\n* Discutir o material com outras pessoas, como colegas de classe ou um tutor.\\n* Explicar o material para si mesmo ou para outras pessoas.\\n* Fazer perguntas e buscar esclarecimentos.\\n\\n**2. Organização:**\\n\\n* Dividir o material em partes menores e gerenciáveis.\\n* Criar resumos, mapas mentais ou outros recursos visuais para organizar a informação.\\n* Estabelecer uma rotina de estudo regular.\\n\\n**3. Atenção:**\\n\\n* Focar no material enquanto estuda, evitando distrações.\\n* Usar técnicas como pomodoro ou alternância de tarefas para manter a concentração.\\n* Tirar intervalos regulares para descansar e recarregar as energias.\\n\\n**4. Revisão:**\\n\\n* Revisar o material regularmente, espaçando as sessões de revisão ao longo do tempo.\\n* Usar diferentes métodos de revisão, como releitura, testes práticos ou flashcards.\\n* Revisar o material antes de provas ou exames.\\n\\n**Benefícios do Método COAR:**\\n\\n* Melhora a compreensão e a retenção de informações.\\n* Reduz o estresse e a ansiedade relacionados ao estudo.\\n* Aumenta a motivação e o envolvimento com o material.\\n* Desenvolve habilidades de comunicação e organização.\\n* Promove o aprendizado ativo e o pensamento crítico.'"
            ],
            "application/vnd.google.colaboratory.intrinsic+json": {
              "type": "string"
            }
          },
          "metadata": {},
          "execution_count": 8
        }
      ]
    },
    {
      "cell_type": "code",
      "source": [
        "chat = model.start_chat(history=[])\n",
        "\n",
        "prompt = input('Esperando prompt: ')\n",
        "\n",
        "while prompt != \"fim\":\n",
        "  response = chat.send_message(prompt)\n",
        "  print(\"Resposta:\", response.text, '\\n\\n')\n",
        "  prompt = input('Esperando prompt: ')"
      ],
      "metadata": {
        "colab": {
          "base_uri": "https://localhost:8080/",
          "height": 1000
        },
        "id": "ccrc-tO5gC7f",
        "outputId": "8b8dadd2-4c05-4a58-a2f7-81d65cada4d8"
      },
      "execution_count": 9,
      "outputs": [
        {
          "metadata": {
            "tags": null
          },
          "name": "stdout",
          "output_type": "stream",
          "text": [
            "Resposta: **Método COAR (Comunicação Organizada e Assertiva na Relação)**\n",
            "\n",
            "**Criador:** Paulo Brito\n",
            "\n",
            "**Objetivo:** Aprimorar as habilidades de comunicação interpessoal, especialmente em relacionamentos íntimos.\n",
            "\n",
            "**Princípios Básicos:**\n",
            "\n",
            "* **Comunicação Organizada:** Estruturar as mensagens de forma lógica e clara, usando técnicas como o \"Modelo de 3 Passos\" (Introdução, Desenvolvimento, Conclusão).\n",
            "* **Assertividade:** Expressar pensamentos, sentimentos e necessidades de forma respeitosa e direta, sem ser agressivo ou passivo.\n",
            "* **Escuta Ativa:** Prestar atenção atenta ao que o outro está dizendo, tanto verbal quanto não verbalmente, e demonstrar compreensão.\n",
            "* **Empatia:** Tentar entender a perspectiva e os sentimentos do outro, mesmo que você não concorde com eles.\n",
            "* **Resolução de Conflitos:** Abordar conflitos de forma construtiva, focando na compreensão e na busca de soluções mutuamente aceitáveis.\n",
            "\n",
            "**Etapas do Método:**\n",
            "\n",
            "1. **Identificação do Problema:** Definir claramente o problema ou questão que precisa ser resolvida.\n",
            "2. **Coleta de Dados:** Reunir informações sobre o problema, incluindo pensamentos, sentimentos e necessidades de ambas as partes.\n",
            "3. **Organização das Informações:** Estruturar as informações coletadas usando o Modelo de 3 Passos.\n",
            "4. **Comunicação Assertiva:** Expressar as informações organizadas de forma respeitosa e direta.\n",
            "5. **Escuta Ativa:** Ouvir atentamente a resposta do outro e demonstrar compreensão.\n",
            "6. **Busca de Soluções:** Trabalhar juntos para encontrar soluções que atendam às necessidades de ambas as partes.\n",
            "7. **Avaliação:** Avaliar o progresso e fazer ajustes conforme necessário.\n",
            "\n",
            "**Benefícios:**\n",
            "\n",
            "* Melhoria da comunicação e compreensão entre parceiros.\n",
            "* Redução de conflitos e aumento da harmonia nos relacionamentos.\n",
            "* Aumento da autoestima e confiança na comunicação.\n",
            "* Fortalecimento do vínculo entre parceiros.\n",
            "* Melhoria da qualidade de vida geral. \n",
            "\n",
            "\n",
            "Resposta: **Modelo COAR (Contexto, Objetivo, Ações, Resultados)**\n",
            "\n",
            "**Criador:** Paulo Brito\n",
            "\n",
            "**Objetivo:** Fornecer uma estrutura para comunicação organizada e assertiva em relacionamentos íntimos.\n",
            "\n",
            "**Etapas:**\n",
            "\n",
            "**1. Contexto:**\n",
            "\n",
            "* Estabeleça o cenário da conversa, incluindo o local, hora e participantes.\n",
            "* Descreva brevemente a situação ou problema que levou à conversa.\n",
            "\n",
            "**2. Objetivo:**\n",
            "\n",
            "* Declare claramente o objetivo da conversa, o que você espera alcançar.\n",
            "* Seja específico e realista em seus objetivos.\n",
            "\n",
            "**3. Ações:**\n",
            "\n",
            "* Descreva as ações específicas que você tomou ou planeja tomar para atingir seu objetivo.\n",
            "* Seja claro e conciso em suas ações.\n",
            "* Use linguagem \"eu\" para assumir a responsabilidade por suas ações.\n",
            "\n",
            "**4. Resultados:**\n",
            "\n",
            "* Especifique os resultados desejados ou esperados de suas ações.\n",
            "* Seja positivo e focado no futuro.\n",
            "* Use linguagem clara e mensurável para descrever os resultados.\n",
            "\n",
            "**Exemplo:**\n",
            "\n",
            "**Contexto:** Estamos na sala de jantar, às 19h, eu e meu parceiro.\n",
            "\n",
            "**Objetivo:** Discutir a divisão de tarefas domésticas.\n",
            "\n",
            "**Ações:** Eu gostaria de propor que dividamos as tarefas de forma mais equitativa. Estou disposto a assumir a responsabilidade por cozinhar e limpar a cozinha, e você poderia cuidar da lavanderia e do banheiro.\n",
            "\n",
            "**Resultados:** Espero que isso reduza o estresse e aumente a harmonia em nosso relacionamento.\n",
            "\n",
            "**Benefícios do Modelo COAR:**\n",
            "\n",
            "* Fornece uma estrutura clara e organizada para comunicação.\n",
            "* Ajuda a evitar mal-entendidos e conflitos.\n",
            "* Promove a compreensão e a resolução de problemas.\n",
            "* Fortalece o vínculo entre parceiros.\n",
            "* Melhora a qualidade geral da comunicação no relacionamento.\n",
            "\n",
            "**Observação:**\n",
            "\n",
            "O Modelo COAR pode ser usado em conjunto com os princípios básicos do Método COAR (Comunicação Organizada e Assertiva na Relação), como comunicação organizada, assertividade, escuta ativa e empatia. \n",
            "\n",
            "\n"
          ]
        },
        {
          "output_type": "error",
          "ename": "KeyboardInterrupt",
          "evalue": "Interrupted by user",
          "traceback": [
            "\u001b[0;31m---------------------------------------------------------------------------\u001b[0m",
            "\u001b[0;31mKeyboardInterrupt\u001b[0m                         Traceback (most recent call last)",
            "\u001b[0;32m<ipython-input-9-481ebd21a3b4>\u001b[0m in \u001b[0;36m<cell line: 5>\u001b[0;34m()\u001b[0m\n\u001b[1;32m      6\u001b[0m   \u001b[0mresponse\u001b[0m \u001b[0;34m=\u001b[0m \u001b[0mchat\u001b[0m\u001b[0;34m.\u001b[0m\u001b[0msend_message\u001b[0m\u001b[0;34m(\u001b[0m\u001b[0mprompt\u001b[0m\u001b[0;34m)\u001b[0m\u001b[0;34m\u001b[0m\u001b[0;34m\u001b[0m\u001b[0m\n\u001b[1;32m      7\u001b[0m   \u001b[0mprint\u001b[0m\u001b[0;34m(\u001b[0m\u001b[0;34m\"Resposta:\"\u001b[0m\u001b[0;34m,\u001b[0m \u001b[0mresponse\u001b[0m\u001b[0;34m.\u001b[0m\u001b[0mtext\u001b[0m\u001b[0;34m,\u001b[0m \u001b[0;34m'\\n\\n'\u001b[0m\u001b[0;34m)\u001b[0m\u001b[0;34m\u001b[0m\u001b[0;34m\u001b[0m\u001b[0m\n\u001b[0;32m----> 8\u001b[0;31m   \u001b[0mprompt\u001b[0m \u001b[0;34m=\u001b[0m \u001b[0minput\u001b[0m\u001b[0;34m(\u001b[0m\u001b[0;34m'Esperando prompt: '\u001b[0m\u001b[0;34m)\u001b[0m\u001b[0;34m\u001b[0m\u001b[0;34m\u001b[0m\u001b[0m\n\u001b[0m",
            "\u001b[0;32m/usr/local/lib/python3.10/dist-packages/ipykernel/kernelbase.py\u001b[0m in \u001b[0;36mraw_input\u001b[0;34m(self, prompt)\u001b[0m\n\u001b[1;32m    849\u001b[0m                 \u001b[0;34m\"raw_input was called, but this frontend does not support input requests.\"\u001b[0m\u001b[0;34m\u001b[0m\u001b[0;34m\u001b[0m\u001b[0m\n\u001b[1;32m    850\u001b[0m             )\n\u001b[0;32m--> 851\u001b[0;31m         return self._input_request(str(prompt),\n\u001b[0m\u001b[1;32m    852\u001b[0m             \u001b[0mself\u001b[0m\u001b[0;34m.\u001b[0m\u001b[0m_parent_ident\u001b[0m\u001b[0;34m,\u001b[0m\u001b[0;34m\u001b[0m\u001b[0;34m\u001b[0m\u001b[0m\n\u001b[1;32m    853\u001b[0m             \u001b[0mself\u001b[0m\u001b[0;34m.\u001b[0m\u001b[0m_parent_header\u001b[0m\u001b[0;34m,\u001b[0m\u001b[0;34m\u001b[0m\u001b[0;34m\u001b[0m\u001b[0m\n",
            "\u001b[0;32m/usr/local/lib/python3.10/dist-packages/ipykernel/kernelbase.py\u001b[0m in \u001b[0;36m_input_request\u001b[0;34m(self, prompt, ident, parent, password)\u001b[0m\n\u001b[1;32m    893\u001b[0m             \u001b[0;32mexcept\u001b[0m \u001b[0mKeyboardInterrupt\u001b[0m\u001b[0;34m:\u001b[0m\u001b[0;34m\u001b[0m\u001b[0;34m\u001b[0m\u001b[0m\n\u001b[1;32m    894\u001b[0m                 \u001b[0;31m# re-raise KeyboardInterrupt, to truncate traceback\u001b[0m\u001b[0;34m\u001b[0m\u001b[0;34m\u001b[0m\u001b[0m\n\u001b[0;32m--> 895\u001b[0;31m                 \u001b[0;32mraise\u001b[0m \u001b[0mKeyboardInterrupt\u001b[0m\u001b[0;34m(\u001b[0m\u001b[0;34m\"Interrupted by user\"\u001b[0m\u001b[0;34m)\u001b[0m \u001b[0;32mfrom\u001b[0m \u001b[0;32mNone\u001b[0m\u001b[0;34m\u001b[0m\u001b[0;34m\u001b[0m\u001b[0m\n\u001b[0m\u001b[1;32m    896\u001b[0m             \u001b[0;32mexcept\u001b[0m \u001b[0mException\u001b[0m \u001b[0;32mas\u001b[0m \u001b[0me\u001b[0m\u001b[0;34m:\u001b[0m\u001b[0;34m\u001b[0m\u001b[0;34m\u001b[0m\u001b[0m\n\u001b[1;32m    897\u001b[0m                 \u001b[0mself\u001b[0m\u001b[0;34m.\u001b[0m\u001b[0mlog\u001b[0m\u001b[0;34m.\u001b[0m\u001b[0mwarning\u001b[0m\u001b[0;34m(\u001b[0m\u001b[0;34m\"Invalid Message:\"\u001b[0m\u001b[0;34m,\u001b[0m \u001b[0mexc_info\u001b[0m\u001b[0;34m=\u001b[0m\u001b[0;32mTrue\u001b[0m\u001b[0;34m)\u001b[0m\u001b[0;34m\u001b[0m\u001b[0;34m\u001b[0m\u001b[0m\n",
            "\u001b[0;31mKeyboardInterrupt\u001b[0m: Interrupted by user"
          ]
        }
      ]
    },
    {
      "cell_type": "code",
      "source": [
        "#Melhorando a visualização\n",
        "#Código disponível em https://ai.google.dev/tutorials/python_quickstart#import_packages\n",
        "import textwrap\n",
        "from IPython.display import display\n",
        "from IPython.display import Markdown\n",
        "\n",
        "def to_markdown(text):\n",
        "  text = text.replace('•', '  *')\n",
        "  return Markdown(textwrap.indent(text, '> ', predicate=lambda _: True))\n",
        "\n",
        "#Imprimindo o histórico\n",
        "for message in chat.history:\n",
        "  display(to_markdown(f'**{message.role}**: {message.parts[0].text}'))\n",
        "  print('-------------------------------------------')"
      ],
      "metadata": {
        "id": "cv7a5X-mm54e"
      },
      "execution_count": null,
      "outputs": []
    }
  ]
}